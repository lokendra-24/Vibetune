{
 "cells": [
  {
   "cell_type": "code",
   "execution_count": 1,
   "id": "8c646178-9eb1-405c-9c67-a38b1ec9a33a",
   "metadata": {},
   "outputs": [
    {
     "name": "stdout",
     "output_type": "stream",
     "text": [
      "25-07-19 16:19:35 - facial_expression_model_weights.h5 will be downloaded...\n"
     ]
    },
    {
     "name": "stderr",
     "output_type": "stream",
     "text": [
      "Downloading...\n",
      "From: https://github.com/serengil/deepface_models/releases/download/v1.0/facial_expression_model_weights.h5\n",
      "To: C:\\Users\\niles\\.deepface\\weights\\facial_expression_model_weights.h5\n",
      "100%|██████████████████████████████████████████████████████████████████████████████████████████| 5.98M/5.98M [00:01<00:00, 3.50MB/s]\n"
     ]
    },
    {
     "name": "stdout",
     "output_type": "stream",
     "text": [
      "Detected Emotion: angry\n"
     ]
    }
   ],
   "source": [
    "from deepface import DeepFace\n",
    "import cv2\n",
    "\n",
    "# 📸 Upload ya webcam se image lena (abhi static image use kar rahe hain)\n",
    "img_path = \"test.jpg\"  # Yahan apne image ka path daalo\n",
    "\n",
    "# 🔍 Detect emotion\n",
    "analysis = DeepFace.analyze(img_path=img_path, actions=['emotion'])\n",
    "\n",
    "# 🧠 Get dominant emotion\n",
    "dominant_emotion = analysis[0]['dominant_emotion']\n",
    "print(\"Detected Emotion:\", dominant_emotion)\n"
   ]
  },
  {
   "cell_type": "code",
   "execution_count": 2,
   "id": "ee59f8a5-2b15-4f6c-9b3f-2404697c1319",
   "metadata": {},
   "outputs": [
    {
     "name": "stdout",
     "output_type": "stream",
     "text": [
      "\n",
      "🎵 Recommended Songs for 'ANGRY' Mood:\n",
      "1. https://www.youtube.com/watch?v=4jBi7D2AFWs\n",
      "2. https://www.youtube.com/watch?v=zszn8vAEYeQ\n",
      "3. https://www.youtube.com/watch?v=XpZukFsZb7U\n",
      "4. https://www.youtube.com/watch?v=EbquE0-bO6E\n",
      "5. https://www.youtube.com/watch?v=iHN9Fkl8D0I\n",
      "6. https://www.youtube.com/watch?v=JKa05nyUmuQ\n",
      "7. https://www.youtube.com/watch?v=Qz3u06eXf0E\n",
      "8. https://www.youtube.com/watch?v=quxTnEEETbo\n",
      "9. https://www.youtube.com/watch?v=skVxLsXK9tI\n",
      "10. https://www.youtube.com/watch?v=4xjr63Lyh1c\n"
     ]
    }
   ],
   "source": [
    "import pandas as pd\n",
    "\n",
    "# 🔁 Load song data\n",
    "df = pd.read_csv(\"songs.csv\")\n",
    "\n",
    "# 🎯 Filter by detected emotion\n",
    "emotion = dominant_emotion  # 'angry' from DeepFace result\n",
    "recommended_songs = df[df['emotion'] == emotion]\n",
    "\n",
    "# 🎧 Show top 10+ songs\n",
    "print(f\"\\n🎵 Recommended Songs for '{emotion.upper()}' Mood:\")\n",
    "for i, song in enumerate(recommended_songs['song'], 1):\n",
    "    print(f\"{i}. {song}\")\n"
   ]
  },
  {
   "cell_type": "code",
   "execution_count": null,
   "id": "ed221e64-d6f1-4f4c-84db-b998923c741b",
   "metadata": {},
   "outputs": [],
   "source": []
  }
 ],
 "metadata": {
  "kernelspec": {
   "display_name": "Python 3 (ipykernel)",
   "language": "python",
   "name": "python3"
  },
  "language_info": {
   "codemirror_mode": {
    "name": "ipython",
    "version": 3
   },
   "file_extension": ".py",
   "mimetype": "text/x-python",
   "name": "python",
   "nbconvert_exporter": "python",
   "pygments_lexer": "ipython3",
   "version": "3.10.11"
  }
 },
 "nbformat": 4,
 "nbformat_minor": 5
}
